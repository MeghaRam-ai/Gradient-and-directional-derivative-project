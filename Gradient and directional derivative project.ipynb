{
 "cells": [
  {
   "cell_type": "markdown",
   "id": "b4a240d1",
   "metadata": {},
   "source": []
  },
  {
   "cell_type": "code",
   "execution_count": 162,
   "id": "d5e7688b",
   "metadata": {},
   "outputs": [],
   "source": [
    "import numpy as np\n",
    "from math import *"
   ]
  },
  {
   "cell_type": "markdown",
   "id": "c126b91d",
   "metadata": {},
   "source": [
    "### - asks the user to enter the coordinates x and y of a point in R²"
   ]
  },
  {
   "cell_type": "code",
   "execution_count": 164,
   "id": "ae07b31d",
   "metadata": {},
   "outputs": [
    {
     "name": "stdout",
     "output_type": "stream",
     "text": [
      "x coordinate: 2\n",
      "y coordinates: 3\n"
     ]
    }
   ],
   "source": [
    "x = float(input(\"x coordinate: \"))\n",
    "y = float(input(\"y coordinates: \"))"
   ]
  },
  {
   "cell_type": "markdown",
   "id": "797e05af",
   "metadata": {},
   "source": [
    "### calculates the gradient of the function f(x,y) = x³y - xy³ at this point\n",
    "- f(x,y) = x³y - xy³ \n",
    "- ∇𝑓(𝑥, 𝑦) = 〈3𝑥^2𝑦 - 𝑦^3, 𝑥^3 - 3y^2x〉."
   ]
  },
  {
   "cell_type": "code",
   "execution_count": 165,
   "id": "5eb66fb6",
   "metadata": {},
   "outputs": [
    {
     "name": "stdout",
     "output_type": "stream",
     "text": [
      "Gradient, ∇𝑓(𝑥, 𝑦)= ( -15.0 , -54.0 )\n"
     ]
    }
   ],
   "source": [
    "dx= (x**2) * 3 - (y**3)\n",
    "dy= (x**3) - (x**3) - 3*(y**2)*x\n",
    "print(\"Gradient, ∇𝑓(𝑥, 𝑦)= (\",dx,\",\",dy,\")\")\n",
    "gradient= np.array([dx,dy])"
   ]
  },
  {
   "cell_type": "markdown",
   "id": "c88640ee",
   "metadata": {},
   "source": [
    "### handles the case where the user writes non numerical values"
   ]
  },
  {
   "cell_type": "code",
   "execution_count": 166,
   "id": "f1fc5174",
   "metadata": {},
   "outputs": [],
   "source": [
    "def input_u():\n",
    "    u_temp=input(\"components of u: \").split()\n",
    "    u=[]\n",
    "    for i in u_temp:\n",
    "        if(i.isdigit()):\n",
    "            u.append(float(i))\n",
    "        else:\n",
    "            u.append(eval(i))\n",
    "    return np.array(u);"
   ]
  },
  {
   "cell_type": "markdown",
   "id": "cc55d4d7",
   "metadata": {},
   "source": [
    "### asks the user the components of the vector u\n"
   ]
  },
  {
   "cell_type": "code",
   "execution_count": 167,
   "id": "4b2cc89e",
   "metadata": {
    "scrolled": true
   },
   "outputs": [
    {
     "name": "stdout",
     "output_type": "stream",
     "text": [
      "components of u: 3 5\n",
      "unit vector of u:  5.830951894845301\n"
     ]
    }
   ],
   "source": [
    "u= input_u()\n",
    "\n",
    "unit_vector = np.linalg.norm(u)\n",
    "\n",
    "print(\"unit vector of u: \", unit_vector)"
   ]
  },
  {
   "cell_type": "markdown",
   "id": "5139a6a8",
   "metadata": {},
   "source": [
    "### creates a unit vector u' out of u and computes the directional derivative of f\n"
   ]
  },
  {
   "cell_type": "code",
   "execution_count": 168,
   "id": "39337556",
   "metadata": {},
   "outputs": [
    {
     "name": "stdout",
     "output_type": "stream",
     "text": [
      "directions_derivative:  -54.02205431989028\n"
     ]
    }
   ],
   "source": [
    "directiona_derivative= np.dot(gradient,[u[0]/unit_vector,u[1]/unit_vector])\n",
    "print(\"directions_derivative: \" ,directiona_derivative)"
   ]
  },
  {
   "cell_type": "code",
   "execution_count": 190,
   "id": "9846ac65",
   "metadata": {},
   "outputs": [
    {
     "name": "stderr",
     "output_type": "stream",
     "text": [
      "<ipython-input-190-68d42bcaa76f>:3: MatplotlibDeprecationWarning:\n",
      "\n",
      "Adding an axes using the same arguments as a previous axes currently reuses the earlier instance.  In a future version, a new instance will always be created and returned.  Meanwhile, this warning can be suppressed, and the future behavior ensured, by passing a unique label to each axes instance.\n",
      "\n"
     ]
    },
    {
     "data": {
      "image/png": "[encoded data removed]",
      "text/plain": [
       "<Figure size 432x288 with 1 Axes>"
      ]
     },
     "metadata": {
      "needs_background": "light"
     },
     "output_type": "display_data"
    }
   ],
   "source": [
    "import matplotlib.pyplot as plt\n",
    "plt.plot(x,y, 'ro')\n",
    "ax = plt.axes()\n",
    "ax.arrow(x, y, dx, dy, head_width=0.5, head_length=0.5, color=\"RED\")\n",
    "ax.arrow(x, y, u[0]/unit_vector,u[1]/unit_vector, head_width=0.5, head_length=0.5,color=\"GREEN\")\n",
    "plt.show()"
   ]
  },
  {
   "cell_type": "code",
   "execution_count": null,
   "id": "413b7dcb",
   "metadata": {},
   "outputs": [],
   "source": []
  }
 ],
 "metadata": {
  "kernelspec": {
   "display_name": "Python 3",
   "language": "python",
   "name": "python3"
  },
  "language_info": {
   "codemirror_mode": {
    "name": "ipython",
    "version": 3
   },
   "file_extension": ".py",
   "mimetype": "text/x-python",
   "name": "python",
   "nbconvert_exporter": "python",
   "pygments_lexer": "ipython3",
   "version": "3.8.8"
  }
 },
 "nbformat": 4,
 "nbformat_minor": 5
}
